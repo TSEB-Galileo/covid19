{
 "cells": [
  {
   "cell_type": "code",
   "execution_count": 1,
   "metadata": {},
   "outputs": [
    {
     "name": "stderr",
     "output_type": "stream",
     "text": [
      "/home/flaviovdf/miniconda3/envs/corona/lib/python3.7/site-packages/rpy2/robjects/pandas2ri.py:14: FutureWarning: pandas.core.index is deprecated and will be removed in a future version.  The public classes are available in the top-level namespace.\n",
      "  from pandas.core.index import Index as PandasIndex\n"
     ]
    }
   ],
   "source": [
    "# -*- coding: utf8 -*-\n",
    "\n",
    "\n",
    "from sirsaia import brasilio\n",
    "from sirsaia import epiestim\n",
    "from sirsaia import plotutils\n",
    "\n",
    "\n",
    "import glob\n",
    "import numpy as np\n",
    "import matplotlib.pyplot as plt\n",
    "import os\n",
    "import pandas as pd"
   ]
  },
  {
   "cell_type": "code",
   "execution_count": 2,
   "metadata": {},
   "outputs": [],
   "source": [
    "plt.ion()\n",
    "plt.style.use('seaborn-colorblind')\n",
    "plt.rcParams['figure.figsize']  = (12, 8)"
   ]
  },
  {
   "cell_type": "code",
   "execution_count": 3,
   "metadata": {},
   "outputs": [],
   "source": [
    "config = epiestim.make_config(mean_si=5, std_si=2, si_parametric_distr='weibull')"
   ]
  },
  {
   "cell_type": "code",
   "execution_count": 4,
   "metadata": {},
   "outputs": [
    {
     "name": "stderr",
     "output_type": "stream",
     "text": [
      "/home/flaviovdf/miniconda3/envs/corona/lib/python3.7/site-packages/rpy2/rinterface/__init__.py:145: RRuntimeWarning: Default config will estimate R on weekly sliding windows.\n",
      "    To change this change the t_start and t_end arguments. \n",
      "\n",
      "  warnings.warn(x, RRuntimeWarning)\n"
     ]
    }
   ],
   "source": [
    "df_orig = pd.read_csv('https://raw.githubusercontent.com/CSSEGISandData/COVID-19/master/csse_covid_19_data/csse_covid_19_time_series/time_series_covid19_confirmed_global.csv')\n",
    "brazil = df_orig[df_orig['Country/Region'] == 'Brazil'].T\n",
    "brazil = brazil[4:].copy()\n",
    "brazil.index = pd.to_datetime(brazil.index)\n",
    "brazil = brazil.sort_index().astype('i').diff().fillna(0)\n",
    "first_day = np.nonzero(brazil.values)[0][0]\n",
    "brazil = brazil[first_day:]\n",
    "brazil.columns = ['local']\n",
    "epiestim_result = epiestim.estimate_r(brazil, config)\n",
    "plt.title('Brazil (last mean = {})'.format(epiestim_result['Mean(R)'].values[-1]))\n",
    "plotutils.plot_result(epiestim_result, brazil)\n",
    "plt.tight_layout()\n",
    "plt.savefig('plots/Brasil.png')\n",
    "plt.close()"
   ]
  },
  {
   "cell_type": "code",
   "execution_count": 5,
   "metadata": {},
   "outputs": [],
   "source": [
    "datasets = {}\n",
    "sheets = glob.glob('data/covid19/[A-Z]*/*.xlsx')\n",
    "for sheet in sorted(sheets):\n",
    "    state = os.path.basename(sheet)[:2]\n",
    "    region = os.path.basename(os.path.dirname(sheet))\n",
    "    if region not in datasets:\n",
    "        datasets[region] = {}\n",
    "    datasets[region][state] = sheet"
   ]
  },
  {
   "cell_type": "code",
   "execution_count": 6,
   "metadata": {},
   "outputs": [],
   "source": [
    "pop = pd.read_csv('data/populacao-estimada-2019.csv')"
   ]
  },
  {
   "cell_type": "code",
   "execution_count": 7,
   "metadata": {},
   "outputs": [
    {
     "ename": "SyntaxError",
     "evalue": "invalid syntax (<ipython-input-7-9a1fcedea09e>, line 26)",
     "output_type": "error",
     "traceback": [
      "\u001b[0;36m  File \u001b[0;32m\"<ipython-input-7-9a1fcedea09e>\"\u001b[0;36m, line \u001b[0;32m26\u001b[0m\n\u001b[0;31m    plt.close()municipio\u001b[0m\n\u001b[0m                       ^\u001b[0m\n\u001b[0;31mSyntaxError\u001b[0m\u001b[0;31m:\u001b[0m invalid syntax\n"
     ]
    }
   ],
   "source": [
    "for region in datasets:\n",
    "    for state, fpath in datasets[region].items():\n",
    "        df = brasilio.load_data(fpath)\n",
    "        model_df = df[['TOTAL NO ESTADO', 'Importados/Indefinidos']].copy()\n",
    "        model_df.columns = ['local', 'imported']\n",
    "        epiestim_result = epiestim.estimate_r(model_df, config)\n",
    "        plotutils.plot_result(epiestim_result, model_df)\n",
    "        plt.title(state + ' last mean = {}'.format(epiestim_result['Mean(R)'].values[-1]))\n",
    "        try:\n",
    "            os.makedirs('plots/{}/'.format(region))\n",
    "        except:\n",
    "            pass\n",
    "        plt.tight_layout()\n",
    "        plt.savefig('plots/{}/{}.png'.format(region, state))\n",
    "        plt.close()\n",
    "        \n",
    "        top_5 = pop[pop['uf'] == state].sort_values(by='populacao_estimada')[-5:]['municipio']\n",
    "        for city in top_5.values:\n",
    "            model_df = df[['TOTAL NO ESTADO']].copy()\n",
    "            model_df.columns = ['local']\n",
    "            epiestim_result = epiestim.estimate_r(model_df, config)\n",
    "            plotutils.plot_result(epiestim_result, model_df)\n",
    "            plt.title(state + '-' + city + ' last mean = {}'.format(epiestim_result['Mean(R)'].values[-1]))\n",
    "            plt.tight_layout()\n",
    "            plt.savefig('plots/{}/{}-{}.png'.format(region, state, city))\n",
    "            plt.close()municipio"
   ]
  },
  {
   "cell_type": "code",
   "execution_count": null,
   "metadata": {},
   "outputs": [],
   "source": [
    "df = brasilio.load_data('data/covid19/Sudeste/MG.xlsx')\n",
    "model_df = df[['Belo Horizonte']].copy()\n",
    "model_df.columns = ['local']\n",
    "epiestim_result = epiestim.estimate_r(model_df)\n",
    "plt.title('Belo Horizonte (R(t) 31/03 = {})'.format(epiestim_result['Mean(R)'].values[-1]))\n",
    "plotutils.plot_result(epiestim_result, model_df)"
   ]
  },
  {
   "cell_type": "code",
   "execution_count": null,
   "metadata": {},
   "outputs": [],
   "source": [
    "epiestim_result"
   ]
  },
  {
   "cell_type": "code",
   "execution_count": null,
   "metadata": {},
   "outputs": [],
   "source": []
  }
 ],
 "metadata": {
  "kernelspec": {
   "display_name": "Python 3",
   "language": "python",
   "name": "python3"
  },
  "language_info": {
   "codemirror_mode": {
    "name": "ipython",
    "version": 3
   },
   "file_extension": ".py",
   "mimetype": "text/x-python",
   "name": "python",
   "nbconvert_exporter": "python",
   "pygments_lexer": "ipython3",
   "version": "3.7.7"
  }
 },
 "nbformat": 4,
 "nbformat_minor": 4
}
