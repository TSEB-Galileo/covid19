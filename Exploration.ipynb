{
 "cells": [
  {
   "cell_type": "code",
   "execution_count": 1,
   "metadata": {},
   "outputs": [
    {
     "name": "stderr",
     "output_type": "stream",
     "text": [
      "/home/flaviovdf/miniconda3/envs/corona/lib/python3.7/site-packages/rpy2/robjects/pandas2ri.py:14: FutureWarning: pandas.core.index is deprecated and will be removed in a future version.  The public classes are available in the top-level namespace.\n",
      "  from pandas.core.index import Index as PandasIndex\n"
     ]
    }
   ],
   "source": [
    "# -*- coding: utf8 -*-\n",
    "\n",
    "\n",
    "from sirsaia import brasilio\n",
    "from sirsaia import epiestim\n",
    "from sirsaia import plotutils\n",
    "\n",
    "\n",
    "import glob\n",
    "import numpy as np\n",
    "import matplotlib.dates as mdates\n",
    "import matplotlib.pyplot as plt\n",
    "import os\n",
    "import pandas as pd\n",
    "import pytz"
   ]
  },
  {
   "cell_type": "code",
   "execution_count": 2,
   "metadata": {},
   "outputs": [],
   "source": [
    "plotutils.init_matplotlib()\n",
    "plt.ion()\n",
    "plt.style.use('tableau-colorblind10')\n",
    "plt.rcParams['figure.figsize']  = (24, 16)"
   ]
  },
  {
   "cell_type": "code",
   "execution_count": 3,
   "metadata": {},
   "outputs": [],
   "source": [
    "df_orig = pd.read_csv('https://raw.githubusercontent.com/CSSEGISandData/COVID-19/master/csse_covid_19_data/csse_covid_19_time_series/time_series_covid19_confirmed_global.csv')\n",
    "brazil = df_orig[df_orig['Country/Region'] == 'Brazil'].T\n",
    "brazil = brazil[4:].copy()\n",
    "brazil.index = pd.to_datetime(brazil.index)\n",
    "brazil = brazil.sort_index().astype('i').diff().fillna(0)\n",
    "first_day = np.nonzero(brazil.values)[0][0]\n",
    "brazil = brazil.iloc[first_day:]\n",
    "brazil.columns = ['local']\n",
    "\n",
    "\n",
    "df_dead = pd.read_csv('https://raw.githubusercontent.com/CSSEGISandData/COVID-19/master/csse_covid_19_data/csse_covid_19_time_series/time_series_covid19_deaths_global.csv')\n",
    "brazil_dead = df_dead[df_dead['Country/Region'] == 'Brazil'].T\n",
    "brazil_dead = brazil_dead[4:].copy()\n",
    "brazil_dead.index = pd.to_datetime(brazil_dead.index)\n",
    "brazil_dead = brazil_dead.sort_index().astype('i').diff().fillna(0)\n",
    "first_day = np.nonzero(brazil_dead.values)[0][0]\n",
    "brazil_dead = brazil_dead.iloc[first_day:]\n",
    "brazil_dead.columns = ['deaths']\n",
    "\n",
    "brazil = brazil.join(brazil_dead, how='outer').fillna(0)"
   ]
  },
  {
   "cell_type": "code",
   "execution_count": 4,
   "metadata": {},
   "outputs": [
    {
     "name": "stderr",
     "output_type": "stream",
     "text": [
      "/home/flaviovdf/miniconda3/envs/corona/lib/python3.7/site-packages/rpy2/rinterface/__init__.py:145: RRuntimeWarning: Default config will estimate R on weekly sliding windows.\n",
      "    To change this change the t_start and t_end arguments. \n",
      "\n",
      "  warnings.warn(x, RRuntimeWarning)\n"
     ]
    }
   ],
   "source": [
    "def plot_site(df):\n",
    "    plt.subplot(2, 2, 1)\n",
    "    plotutils.plot_it(df)\n",
    "    left, right = plt.xlim()\n",
    "    plotutils.despine()\n",
    "\n",
    "    plt.subplot(2, 2, 2)\n",
    "    plotutils.plot_it(df, deaths=True)\n",
    "    plt.xlim(left=left, right=right)\n",
    "    plotutils.despine()\n",
    "\n",
    "    plt.subplot(2, 2, 4)\n",
    "    plotutils.plot_weekdiff(df)\n",
    "    plt.xlim(left=left, right=right)\n",
    "    plotutils.despine()\n",
    "\n",
    "    plt.subplot(2, 2, 3)\n",
    "    # if 'imported' in df.columns:\n",
    "    #     cols = ['local']\n",
    "    # else:\n",
    "    cols = ['local']\n",
    "    config = epiestim.make_config(mean_si=4.7, std_si=2.9)\n",
    "    epiestim_result = epiestim.estimate_r(df[cols], config)\n",
    "    plotutils.plot_result(epiestim_result, df)\n",
    "    plt.xlim(left=left, right=right)\n",
    "\n",
    "    plt.tight_layout(pad=2)\n",
    "    return epiestim_result\n",
    "\n",
    "epiestim_result = plot_site(brazil)\n",
    "plt.savefig('plots/Brasil.png', dpi=72)\n",
    "plt.close()"
   ]
  },
  {
   "cell_type": "code",
   "execution_count": 5,
   "metadata": {},
   "outputs": [],
   "source": [
    "#model_df = brasilio.get_state(full_df, 'TO')\n",
    "#epiestim_result = plot_site(model_df)"
   ]
  },
  {
   "cell_type": "code",
   "execution_count": 6,
   "metadata": {},
   "outputs": [],
   "source": [
    "epiestim_result['t_start'] = brazil.index[(epiestim_result['t_start'] - 1).astype('i').values]\n",
    "epiestim_result['t_end'] = brazil.index[(epiestim_result['t_end'] - 1).astype('i').values]\n",
    "epiestim_result['country'] = 'Brazil'\n",
    "epiestim_result['state'] = np.nan\n",
    "epiestim_result['city'] = np.nan\n",
    "epiestim_result.to_csv('results.csv', mode='w', header=True, index=False)"
   ]
  },
  {
   "cell_type": "code",
   "execution_count": 7,
   "metadata": {},
   "outputs": [],
   "source": [
    "full_df = pd.read_csv('https://data.brasil.io/dataset/covid19/caso.csv.gz')"
   ]
  },
  {
   "cell_type": "code",
   "execution_count": 8,
   "metadata": {},
   "outputs": [],
   "source": [
    "regions = {'Centro-Oeste': ['DF', 'GO', 'MS', 'MT'],\n",
    "          'Nordeste': ['AL', 'BA', 'CE', 'MA', 'PB', 'PE', 'PI', 'RN', 'SE'], \n",
    "          'Norte': ['AC', 'AM', 'AP', 'PA', 'RO', 'RR', 'TO'],\n",
    "          'Sudeste': ['ES', 'MG', 'RJ', 'SP'],\n",
    "          'Sul': ['PR', 'RS', 'SC']}"
   ]
  },
  {
   "cell_type": "code",
   "execution_count": 9,
   "metadata": {},
   "outputs": [],
   "source": [
    "\n",
    "pop = pd.read_csv('data/populacao-estimada-2019.csv')"
   ]
  },
  {
   "cell_type": "code",
   "execution_count": 10,
   "metadata": {},
   "outputs": [],
   "source": [
    "area = {\n",
    "    'AM':1570.7,\n",
    "    'PA':1247.6,\n",
    "    'MT':903.3,\n",
    "    'MG':587.5,\n",
    "    'BA':564.6,\n",
    "    'MS':357.1,\n",
    "    'GO':340.0,\n",
    "    'MA':332.0,\n",
    "    'RS':281.7,\n",
    "    'TO':277.6,\n",
    "    'PI':251.5,\n",
    "    'SP':248.2,\n",
    "    'RO':237.5,\n",
    "    'RR':224.2,\n",
    "    'PR':199.3,\n",
    "    'AC':152.5,\n",
    "    'CE':148.8,\n",
    "    'AP':142.8,\n",
    "    'PE':98.3,\n",
    "    'SC':95.3,\n",
    "    'PB':56.4,\n",
    "    'RN':52.8,\n",
    "    'ES':46.0,\n",
    "    'RJ':43.6,\n",
    "    'AL':27.7,\n",
    "    'SE':21.9,\n",
    "    'DF':5.8}"
   ]
  },
  {
   "cell_type": "code",
   "execution_count": 11,
   "metadata": {},
   "outputs": [
    {
     "name": "stderr",
     "output_type": "stream",
     "text": [
      "/home/flaviovdf/miniconda3/envs/corona/lib/python3.7/site-packages/rpy2/rinterface/__init__.py:145: RRuntimeWarning: Default config will estimate R on weekly sliding windows.\n",
      "    To change this change the t_start and t_end arguments. \n",
      "\n",
      "  warnings.warn(x, RRuntimeWarning)\n"
     ]
    }
   ],
   "source": [
    "x = []\n",
    "y = []\n",
    "z = []\n",
    "names = []\n",
    "for region in regions:\n",
    "    for state in regions[region]:\n",
    "        model_df = brasilio.get_state(full_df, state)\n",
    "        dead = model_df['deaths'].iloc[-14:].mean()\n",
    "        config = epiestim.make_config(mean_si=4.7, std_si=2.9)\n",
    "        epiestim_result = epiestim.estimate_r(model_df[['local']], config)\n",
    "        pop_state = pop[pop['uf'] == state]['populacao_estimada'].sum()\n",
    "        z.append(pop_state)\n",
    "        rt = epiestim_result['Mean(R)'].iloc[-14:].mean()\n",
    "        \n",
    "        x.append(rt)\n",
    "        y.append(dead)\n",
    "        names.append(state)"
   ]
  },
  {
   "cell_type": "code",
   "execution_count": 12,
   "metadata": {},
   "outputs": [],
   "source": [
    "plt.scatter(x, y, s=np.array(z)/10000, lw=0, edgecolors='k', zorder=2, alpha=0.6)\n",
    "ax = plt.gca()\n",
    "ax.set_yscale('log')\n",
    "plt.ylabel('Média de mortes nos últimos 14 dias. Escala log.')\n",
    "plt.xlabel('R(t) médio nos últimos 14 dias')\n",
    "plt.title('O tamanho de cada ponto é de acordo com a população do estado.')\n",
    "\n",
    "for i, txt in enumerate(names):\n",
    "    ax.annotate(txt, (x[i], y[i]), fontsize=16,\n",
    "                verticalalignment='center',\n",
    "                horizontalalignment='center')\n",
    "    \n",
    "plotutils.despine()\n",
    "plt.tight_layout()\n",
    "plt.savefig('plots/scatter.png', dpi=72)\n",
    "plt.close()"
   ]
  },
  {
   "cell_type": "code",
   "execution_count": 13,
   "metadata": {},
   "outputs": [
    {
     "name": "stdout",
     "output_type": "stream",
     "text": [
      "DF\n"
     ]
    },
    {
     "name": "stderr",
     "output_type": "stream",
     "text": [
      "/home/flaviovdf/miniconda3/envs/corona/lib/python3.7/site-packages/rpy2/rinterface/__init__.py:145: RRuntimeWarning: Default config will estimate R on weekly sliding windows.\n",
      "    To change this change the t_start and t_end arguments. \n",
      "\n",
      "  warnings.warn(x, RRuntimeWarning)\n",
      "/home/flaviovdf/miniconda3/envs/corona/lib/python3.7/site-packages/rpy2/rinterface/__init__.py:145: RRuntimeWarning: Default config will estimate R on weekly sliding windows.\n",
      "    To change this change the t_start and t_end arguments. \n",
      "\n",
      "  warnings.warn(x, RRuntimeWarning)\n"
     ]
    },
    {
     "name": "stdout",
     "output_type": "stream",
     "text": [
      "GO\n"
     ]
    },
    {
     "name": "stderr",
     "output_type": "stream",
     "text": [
      "/home/flaviovdf/miniconda3/envs/corona/lib/python3.7/site-packages/rpy2/rinterface/__init__.py:145: RRuntimeWarning: Default config will estimate R on weekly sliding windows.\n",
      "    To change this change the t_start and t_end arguments. \n",
      "\n",
      "  warnings.warn(x, RRuntimeWarning)\n",
      "/home/flaviovdf/miniconda3/envs/corona/lib/python3.7/site-packages/rpy2/rinterface/__init__.py:145: RRuntimeWarning: Default config will estimate R on weekly sliding windows.\n",
      "    To change this change the t_start and t_end arguments. \n",
      "\n",
      "  warnings.warn(x, RRuntimeWarning)\n",
      "/home/flaviovdf/miniconda3/envs/corona/lib/python3.7/site-packages/rpy2/rinterface/__init__.py:145: RRuntimeWarning: Default config will estimate R on weekly sliding windows.\n",
      "    To change this change the t_start and t_end arguments. \n",
      "\n",
      "  warnings.warn(x, RRuntimeWarning)\n",
      "/home/flaviovdf/miniconda3/envs/corona/lib/python3.7/site-packages/rpy2/rinterface/__init__.py:145: RRuntimeWarning: Default config will estimate R on weekly sliding windows.\n",
      "    To change this change the t_start and t_end arguments. \n",
      "\n",
      "  warnings.warn(x, RRuntimeWarning)\n",
      "/home/flaviovdf/miniconda3/envs/corona/lib/python3.7/site-packages/rpy2/rinterface/__init__.py:145: RRuntimeWarning: Default config will estimate R on weekly sliding windows.\n",
      "    To change this change the t_start and t_end arguments. \n",
      "\n",
      "  warnings.warn(x, RRuntimeWarning)\n",
      "/home/flaviovdf/miniconda3/envs/corona/lib/python3.7/site-packages/rpy2/rinterface/__init__.py:145: RRuntimeWarning: Default config will estimate R on weekly sliding windows.\n",
      "    To change this change the t_start and t_end arguments. \n",
      "\n",
      "  warnings.warn(x, RRuntimeWarning)\n"
     ]
    },
    {
     "name": "stdout",
     "output_type": "stream",
     "text": [
      "MS\n"
     ]
    },
    {
     "name": "stderr",
     "output_type": "stream",
     "text": [
      "/home/flaviovdf/miniconda3/envs/corona/lib/python3.7/site-packages/rpy2/rinterface/__init__.py:145: RRuntimeWarning: Default config will estimate R on weekly sliding windows.\n",
      "    To change this change the t_start and t_end arguments. \n",
      "\n",
      "  warnings.warn(x, RRuntimeWarning)\n",
      "/home/flaviovdf/miniconda3/envs/corona/lib/python3.7/site-packages/rpy2/rinterface/__init__.py:145: RRuntimeWarning: Default config will estimate R on weekly sliding windows.\n",
      "    To change this change the t_start and t_end arguments. \n",
      "\n",
      "  warnings.warn(x, RRuntimeWarning)\n",
      "/home/flaviovdf/miniconda3/envs/corona/lib/python3.7/site-packages/rpy2/rinterface/__init__.py:145: RRuntimeWarning: Default config will estimate R on weekly sliding windows.\n",
      "    To change this change the t_start and t_end arguments. \n",
      "\n",
      "  warnings.warn(x, RRuntimeWarning)\n",
      "/home/flaviovdf/miniconda3/envs/corona/lib/python3.7/site-packages/rpy2/rinterface/__init__.py:145: RRuntimeWarning: Default config will estimate R on weekly sliding windows.\n",
      "    To change this change the t_start and t_end arguments. \n",
      "\n",
      "  warnings.warn(x, RRuntimeWarning)\n",
      "/home/flaviovdf/miniconda3/envs/corona/lib/python3.7/site-packages/rpy2/rinterface/__init__.py:145: RRuntimeWarning: Default config will estimate R on weekly sliding windows.\n",
      "    To change this change the t_start and t_end arguments. \n",
      "\n",
      "  warnings.warn(x, RRuntimeWarning)\n",
      "/home/flaviovdf/miniconda3/envs/corona/lib/python3.7/site-packages/rpy2/rinterface/__init__.py:145: RRuntimeWarning: Default config will estimate R on weekly sliding windows.\n",
      "    To change this change the t_start and t_end arguments. \n",
      "\n",
      "  warnings.warn(x, RRuntimeWarning)\n"
     ]
    },
    {
     "name": "stdout",
     "output_type": "stream",
     "text": [
      "MT\n"
     ]
    },
    {
     "name": "stderr",
     "output_type": "stream",
     "text": [
      "/home/flaviovdf/miniconda3/envs/corona/lib/python3.7/site-packages/rpy2/rinterface/__init__.py:145: RRuntimeWarning: Default config will estimate R on weekly sliding windows.\n",
      "    To change this change the t_start and t_end arguments. \n",
      "\n",
      "  warnings.warn(x, RRuntimeWarning)\n",
      "/home/flaviovdf/miniconda3/envs/corona/lib/python3.7/site-packages/rpy2/rinterface/__init__.py:145: RRuntimeWarning: Default config will estimate R on weekly sliding windows.\n",
      "    To change this change the t_start and t_end arguments. \n",
      "\n",
      "  warnings.warn(x, RRuntimeWarning)\n",
      "/home/flaviovdf/miniconda3/envs/corona/lib/python3.7/site-packages/rpy2/rinterface/__init__.py:145: RRuntimeWarning: Default config will estimate R on weekly sliding windows.\n",
      "    To change this change the t_start and t_end arguments. \n",
      "\n",
      "  warnings.warn(x, RRuntimeWarning)\n",
      "/home/flaviovdf/miniconda3/envs/corona/lib/python3.7/site-packages/rpy2/rinterface/__init__.py:145: RRuntimeWarning: Default config will estimate R on weekly sliding windows.\n",
      "    To change this change the t_start and t_end arguments. \n",
      "\n",
      "  warnings.warn(x, RRuntimeWarning)\n",
      "/home/flaviovdf/miniconda3/envs/corona/lib/python3.7/site-packages/rpy2/rinterface/__init__.py:145: RRuntimeWarning: Default config will estimate R on weekly sliding windows.\n",
      "    To change this change the t_start and t_end arguments. \n",
      "\n",
      "  warnings.warn(x, RRuntimeWarning)\n",
      "/home/flaviovdf/miniconda3/envs/corona/lib/python3.7/site-packages/rpy2/rinterface/__init__.py:145: RRuntimeWarning: Default config will estimate R on weekly sliding windows.\n",
      "    To change this change the t_start and t_end arguments. \n",
      "\n",
      "  warnings.warn(x, RRuntimeWarning)\n"
     ]
    },
    {
     "name": "stdout",
     "output_type": "stream",
     "text": [
      "AL\n"
     ]
    },
    {
     "name": "stderr",
     "output_type": "stream",
     "text": [
      "/home/flaviovdf/miniconda3/envs/corona/lib/python3.7/site-packages/rpy2/rinterface/__init__.py:145: RRuntimeWarning: Default config will estimate R on weekly sliding windows.\n",
      "    To change this change the t_start and t_end arguments. \n",
      "\n",
      "  warnings.warn(x, RRuntimeWarning)\n",
      "/home/flaviovdf/miniconda3/envs/corona/lib/python3.7/site-packages/rpy2/rinterface/__init__.py:145: RRuntimeWarning: Default config will estimate R on weekly sliding windows.\n",
      "    To change this change the t_start and t_end arguments. \n",
      "\n",
      "  warnings.warn(x, RRuntimeWarning)\n",
      "/home/flaviovdf/miniconda3/envs/corona/lib/python3.7/site-packages/rpy2/rinterface/__init__.py:145: RRuntimeWarning: Default config will estimate R on weekly sliding windows.\n",
      "    To change this change the t_start and t_end arguments. \n",
      "\n",
      "  warnings.warn(x, RRuntimeWarning)\n",
      "/home/flaviovdf/miniconda3/envs/corona/lib/python3.7/site-packages/rpy2/rinterface/__init__.py:145: RRuntimeWarning: Default config will estimate R on weekly sliding windows.\n",
      "    To change this change the t_start and t_end arguments. \n",
      "\n",
      "  warnings.warn(x, RRuntimeWarning)\n",
      "/home/flaviovdf/miniconda3/envs/corona/lib/python3.7/site-packages/rpy2/rinterface/__init__.py:145: RRuntimeWarning: Default config will estimate R on weekly sliding windows.\n",
      "    To change this change the t_start and t_end arguments. \n",
      "\n",
      "  warnings.warn(x, RRuntimeWarning)\n",
      "/home/flaviovdf/miniconda3/envs/corona/lib/python3.7/site-packages/rpy2/rinterface/__init__.py:145: RRuntimeWarning: Default config will estimate R on weekly sliding windows.\n",
      "    To change this change the t_start and t_end arguments. \n",
      "\n",
      "  warnings.warn(x, RRuntimeWarning)\n"
     ]
    },
    {
     "name": "stdout",
     "output_type": "stream",
     "text": [
      "BA\n"
     ]
    },
    {
     "name": "stderr",
     "output_type": "stream",
     "text": [
      "/home/flaviovdf/miniconda3/envs/corona/lib/python3.7/site-packages/rpy2/rinterface/__init__.py:145: RRuntimeWarning: Default config will estimate R on weekly sliding windows.\n",
      "    To change this change the t_start and t_end arguments. \n",
      "\n",
      "  warnings.warn(x, RRuntimeWarning)\n",
      "/home/flaviovdf/miniconda3/envs/corona/lib/python3.7/site-packages/rpy2/rinterface/__init__.py:145: RRuntimeWarning: Default config will estimate R on weekly sliding windows.\n",
      "    To change this change the t_start and t_end arguments. \n",
      "\n",
      "  warnings.warn(x, RRuntimeWarning)\n",
      "/home/flaviovdf/miniconda3/envs/corona/lib/python3.7/site-packages/rpy2/rinterface/__init__.py:145: RRuntimeWarning: Default config will estimate R on weekly sliding windows.\n",
      "    To change this change the t_start and t_end arguments. \n",
      "\n",
      "  warnings.warn(x, RRuntimeWarning)\n",
      "/home/flaviovdf/miniconda3/envs/corona/lib/python3.7/site-packages/rpy2/rinterface/__init__.py:145: RRuntimeWarning: Default config will estimate R on weekly sliding windows.\n",
      "    To change this change the t_start and t_end arguments. \n",
      "\n",
      "  warnings.warn(x, RRuntimeWarning)\n",
      "/home/flaviovdf/miniconda3/envs/corona/lib/python3.7/site-packages/rpy2/rinterface/__init__.py:145: RRuntimeWarning: Default config will estimate R on weekly sliding windows.\n",
      "    To change this change the t_start and t_end arguments. \n",
      "\n",
      "  warnings.warn(x, RRuntimeWarning)\n",
      "/home/flaviovdf/miniconda3/envs/corona/lib/python3.7/site-packages/rpy2/rinterface/__init__.py:145: RRuntimeWarning: Default config will estimate R on weekly sliding windows.\n",
      "    To change this change the t_start and t_end arguments. \n",
      "\n",
      "  warnings.warn(x, RRuntimeWarning)\n"
     ]
    },
    {
     "name": "stdout",
     "output_type": "stream",
     "text": [
      "CE\n"
     ]
    },
    {
     "name": "stderr",
     "output_type": "stream",
     "text": [
      "/home/flaviovdf/miniconda3/envs/corona/lib/python3.7/site-packages/rpy2/rinterface/__init__.py:145: RRuntimeWarning: Default config will estimate R on weekly sliding windows.\n",
      "    To change this change the t_start and t_end arguments. \n",
      "\n",
      "  warnings.warn(x, RRuntimeWarning)\n",
      "/home/flaviovdf/miniconda3/envs/corona/lib/python3.7/site-packages/rpy2/rinterface/__init__.py:145: RRuntimeWarning: Default config will estimate R on weekly sliding windows.\n",
      "    To change this change the t_start and t_end arguments. \n",
      "\n",
      "  warnings.warn(x, RRuntimeWarning)\n",
      "/home/flaviovdf/miniconda3/envs/corona/lib/python3.7/site-packages/rpy2/rinterface/__init__.py:145: RRuntimeWarning: Default config will estimate R on weekly sliding windows.\n",
      "    To change this change the t_start and t_end arguments. \n",
      "\n",
      "  warnings.warn(x, RRuntimeWarning)\n",
      "/home/flaviovdf/miniconda3/envs/corona/lib/python3.7/site-packages/rpy2/rinterface/__init__.py:145: RRuntimeWarning: Default config will estimate R on weekly sliding windows.\n",
      "    To change this change the t_start and t_end arguments. \n",
      "\n",
      "  warnings.warn(x, RRuntimeWarning)\n",
      "/home/flaviovdf/miniconda3/envs/corona/lib/python3.7/site-packages/rpy2/rinterface/__init__.py:145: RRuntimeWarning: Default config will estimate R on weekly sliding windows.\n",
      "    To change this change the t_start and t_end arguments. \n",
      "\n",
      "  warnings.warn(x, RRuntimeWarning)\n",
      "/home/flaviovdf/miniconda3/envs/corona/lib/python3.7/site-packages/rpy2/rinterface/__init__.py:145: RRuntimeWarning: Default config will estimate R on weekly sliding windows.\n",
      "    To change this change the t_start and t_end arguments. \n",
      "\n",
      "  warnings.warn(x, RRuntimeWarning)\n"
     ]
    },
    {
     "name": "stdout",
     "output_type": "stream",
     "text": [
      "MA\n"
     ]
    },
    {
     "name": "stderr",
     "output_type": "stream",
     "text": [
      "/home/flaviovdf/miniconda3/envs/corona/lib/python3.7/site-packages/rpy2/rinterface/__init__.py:145: RRuntimeWarning: Default config will estimate R on weekly sliding windows.\n",
      "    To change this change the t_start and t_end arguments. \n",
      "\n",
      "  warnings.warn(x, RRuntimeWarning)\n",
      "/home/flaviovdf/miniconda3/envs/corona/lib/python3.7/site-packages/rpy2/rinterface/__init__.py:145: RRuntimeWarning: Default config will estimate R on weekly sliding windows.\n",
      "    To change this change the t_start and t_end arguments. \n",
      "\n",
      "  warnings.warn(x, RRuntimeWarning)\n",
      "/home/flaviovdf/miniconda3/envs/corona/lib/python3.7/site-packages/rpy2/rinterface/__init__.py:145: RRuntimeWarning: Default config will estimate R on weekly sliding windows.\n",
      "    To change this change the t_start and t_end arguments. \n",
      "\n",
      "  warnings.warn(x, RRuntimeWarning)\n",
      "/home/flaviovdf/miniconda3/envs/corona/lib/python3.7/site-packages/rpy2/rinterface/__init__.py:145: RRuntimeWarning: Default config will estimate R on weekly sliding windows.\n",
      "    To change this change the t_start and t_end arguments. \n",
      "\n",
      "  warnings.warn(x, RRuntimeWarning)\n",
      "/home/flaviovdf/miniconda3/envs/corona/lib/python3.7/site-packages/rpy2/rinterface/__init__.py:145: RRuntimeWarning: Default config will estimate R on weekly sliding windows.\n",
      "    To change this change the t_start and t_end arguments. \n",
      "\n",
      "  warnings.warn(x, RRuntimeWarning)\n",
      "/home/flaviovdf/miniconda3/envs/corona/lib/python3.7/site-packages/rpy2/rinterface/__init__.py:145: RRuntimeWarning: Default config will estimate R on weekly sliding windows.\n",
      "    To change this change the t_start and t_end arguments. \n",
      "\n",
      "  warnings.warn(x, RRuntimeWarning)\n"
     ]
    },
    {
     "name": "stdout",
     "output_type": "stream",
     "text": [
      "PB\n"
     ]
    },
    {
     "name": "stderr",
     "output_type": "stream",
     "text": [
      "/home/flaviovdf/miniconda3/envs/corona/lib/python3.7/site-packages/rpy2/rinterface/__init__.py:145: RRuntimeWarning: Default config will estimate R on weekly sliding windows.\n",
      "    To change this change the t_start and t_end arguments. \n",
      "\n",
      "  warnings.warn(x, RRuntimeWarning)\n",
      "/home/flaviovdf/miniconda3/envs/corona/lib/python3.7/site-packages/rpy2/rinterface/__init__.py:145: RRuntimeWarning: Default config will estimate R on weekly sliding windows.\n",
      "    To change this change the t_start and t_end arguments. \n",
      "\n",
      "  warnings.warn(x, RRuntimeWarning)\n",
      "/home/flaviovdf/miniconda3/envs/corona/lib/python3.7/site-packages/rpy2/rinterface/__init__.py:145: RRuntimeWarning: Default config will estimate R on weekly sliding windows.\n",
      "    To change this change the t_start and t_end arguments. \n",
      "\n",
      "  warnings.warn(x, RRuntimeWarning)\n",
      "/home/flaviovdf/miniconda3/envs/corona/lib/python3.7/site-packages/rpy2/rinterface/__init__.py:145: RRuntimeWarning: Default config will estimate R on weekly sliding windows.\n",
      "    To change this change the t_start and t_end arguments. \n",
      "\n",
      "  warnings.warn(x, RRuntimeWarning)\n",
      "/home/flaviovdf/miniconda3/envs/corona/lib/python3.7/site-packages/rpy2/rinterface/__init__.py:145: RRuntimeWarning: Default config will estimate R on weekly sliding windows.\n",
      "    To change this change the t_start and t_end arguments. \n",
      "\n",
      "  warnings.warn(x, RRuntimeWarning)\n",
      "/home/flaviovdf/miniconda3/envs/corona/lib/python3.7/site-packages/rpy2/rinterface/__init__.py:145: RRuntimeWarning: Default config will estimate R on weekly sliding windows.\n",
      "    To change this change the t_start and t_end arguments. \n",
      "\n",
      "  warnings.warn(x, RRuntimeWarning)\n"
     ]
    },
    {
     "name": "stdout",
     "output_type": "stream",
     "text": [
      "PE\n"
     ]
    },
    {
     "name": "stderr",
     "output_type": "stream",
     "text": [
      "/home/flaviovdf/miniconda3/envs/corona/lib/python3.7/site-packages/rpy2/rinterface/__init__.py:145: RRuntimeWarning: Default config will estimate R on weekly sliding windows.\n",
      "    To change this change the t_start and t_end arguments. \n",
      "\n",
      "  warnings.warn(x, RRuntimeWarning)\n",
      "/home/flaviovdf/miniconda3/envs/corona/lib/python3.7/site-packages/rpy2/rinterface/__init__.py:145: RRuntimeWarning: Default config will estimate R on weekly sliding windows.\n",
      "    To change this change the t_start and t_end arguments. \n",
      "\n",
      "  warnings.warn(x, RRuntimeWarning)\n",
      "/home/flaviovdf/miniconda3/envs/corona/lib/python3.7/site-packages/rpy2/rinterface/__init__.py:145: RRuntimeWarning: Default config will estimate R on weekly sliding windows.\n",
      "    To change this change the t_start and t_end arguments. \n",
      "\n",
      "  warnings.warn(x, RRuntimeWarning)\n",
      "/home/flaviovdf/miniconda3/envs/corona/lib/python3.7/site-packages/rpy2/rinterface/__init__.py:145: RRuntimeWarning: Default config will estimate R on weekly sliding windows.\n",
      "    To change this change the t_start and t_end arguments. \n",
      "\n",
      "  warnings.warn(x, RRuntimeWarning)\n",
      "/home/flaviovdf/miniconda3/envs/corona/lib/python3.7/site-packages/rpy2/rinterface/__init__.py:145: RRuntimeWarning: Default config will estimate R on weekly sliding windows.\n",
      "    To change this change the t_start and t_end arguments. \n",
      "\n",
      "  warnings.warn(x, RRuntimeWarning)\n",
      "/home/flaviovdf/miniconda3/envs/corona/lib/python3.7/site-packages/rpy2/rinterface/__init__.py:145: RRuntimeWarning: Default config will estimate R on weekly sliding windows.\n",
      "    To change this change the t_start and t_end arguments. \n",
      "\n",
      "  warnings.warn(x, RRuntimeWarning)\n"
     ]
    },
    {
     "name": "stdout",
     "output_type": "stream",
     "text": [
      "PI\n"
     ]
    },
    {
     "name": "stderr",
     "output_type": "stream",
     "text": [
      "/home/flaviovdf/miniconda3/envs/corona/lib/python3.7/site-packages/rpy2/rinterface/__init__.py:145: RRuntimeWarning: Default config will estimate R on weekly sliding windows.\n",
      "    To change this change the t_start and t_end arguments. \n",
      "\n",
      "  warnings.warn(x, RRuntimeWarning)\n",
      "/home/flaviovdf/miniconda3/envs/corona/lib/python3.7/site-packages/rpy2/rinterface/__init__.py:145: RRuntimeWarning: Default config will estimate R on weekly sliding windows.\n",
      "    To change this change the t_start and t_end arguments. \n",
      "\n",
      "  warnings.warn(x, RRuntimeWarning)\n",
      "/home/flaviovdf/miniconda3/envs/corona/lib/python3.7/site-packages/rpy2/rinterface/__init__.py:145: RRuntimeWarning: Default config will estimate R on weekly sliding windows.\n",
      "    To change this change the t_start and t_end arguments. \n",
      "\n",
      "  warnings.warn(x, RRuntimeWarning)\n",
      "/home/flaviovdf/miniconda3/envs/corona/lib/python3.7/site-packages/rpy2/rinterface/__init__.py:145: RRuntimeWarning: Default config will estimate R on weekly sliding windows.\n",
      "    To change this change the t_start and t_end arguments. \n",
      "\n",
      "  warnings.warn(x, RRuntimeWarning)\n",
      "/home/flaviovdf/miniconda3/envs/corona/lib/python3.7/site-packages/rpy2/rinterface/__init__.py:145: RRuntimeWarning: Default config will estimate R on weekly sliding windows.\n",
      "    To change this change the t_start and t_end arguments. \n",
      "\n",
      "  warnings.warn(x, RRuntimeWarning)\n",
      "/home/flaviovdf/miniconda3/envs/corona/lib/python3.7/site-packages/rpy2/rinterface/__init__.py:145: RRuntimeWarning: Default config will estimate R on weekly sliding windows.\n",
      "    To change this change the t_start and t_end arguments. \n",
      "\n",
      "  warnings.warn(x, RRuntimeWarning)\n"
     ]
    },
    {
     "name": "stdout",
     "output_type": "stream",
     "text": [
      "RN\n"
     ]
    },
    {
     "name": "stderr",
     "output_type": "stream",
     "text": [
      "/home/flaviovdf/miniconda3/envs/corona/lib/python3.7/site-packages/rpy2/rinterface/__init__.py:145: RRuntimeWarning: Default config will estimate R on weekly sliding windows.\n",
      "    To change this change the t_start and t_end arguments. \n",
      "\n",
      "  warnings.warn(x, RRuntimeWarning)\n",
      "/home/flaviovdf/miniconda3/envs/corona/lib/python3.7/site-packages/rpy2/rinterface/__init__.py:145: RRuntimeWarning: Default config will estimate R on weekly sliding windows.\n",
      "    To change this change the t_start and t_end arguments. \n",
      "\n",
      "  warnings.warn(x, RRuntimeWarning)\n",
      "/home/flaviovdf/miniconda3/envs/corona/lib/python3.7/site-packages/rpy2/rinterface/__init__.py:145: RRuntimeWarning: Default config will estimate R on weekly sliding windows.\n",
      "    To change this change the t_start and t_end arguments. \n",
      "\n",
      "  warnings.warn(x, RRuntimeWarning)\n",
      "/home/flaviovdf/miniconda3/envs/corona/lib/python3.7/site-packages/rpy2/rinterface/__init__.py:145: RRuntimeWarning: Default config will estimate R on weekly sliding windows.\n",
      "    To change this change the t_start and t_end arguments. \n",
      "\n",
      "  warnings.warn(x, RRuntimeWarning)\n",
      "/home/flaviovdf/miniconda3/envs/corona/lib/python3.7/site-packages/rpy2/rinterface/__init__.py:145: RRuntimeWarning: Default config will estimate R on weekly sliding windows.\n",
      "    To change this change the t_start and t_end arguments. \n",
      "\n",
      "  warnings.warn(x, RRuntimeWarning)\n",
      "/home/flaviovdf/miniconda3/envs/corona/lib/python3.7/site-packages/rpy2/rinterface/__init__.py:145: RRuntimeWarning: Default config will estimate R on weekly sliding windows.\n",
      "    To change this change the t_start and t_end arguments. \n",
      "\n",
      "  warnings.warn(x, RRuntimeWarning)\n"
     ]
    },
    {
     "name": "stdout",
     "output_type": "stream",
     "text": [
      "SE\n"
     ]
    },
    {
     "name": "stderr",
     "output_type": "stream",
     "text": [
      "/home/flaviovdf/miniconda3/envs/corona/lib/python3.7/site-packages/rpy2/rinterface/__init__.py:145: RRuntimeWarning: Default config will estimate R on weekly sliding windows.\n",
      "    To change this change the t_start and t_end arguments. \n",
      "\n",
      "  warnings.warn(x, RRuntimeWarning)\n",
      "/home/flaviovdf/miniconda3/envs/corona/lib/python3.7/site-packages/rpy2/rinterface/__init__.py:145: RRuntimeWarning: Default config will estimate R on weekly sliding windows.\n",
      "    To change this change the t_start and t_end arguments. \n",
      "\n",
      "  warnings.warn(x, RRuntimeWarning)\n",
      "/home/flaviovdf/miniconda3/envs/corona/lib/python3.7/site-packages/rpy2/rinterface/__init__.py:145: RRuntimeWarning: Default config will estimate R on weekly sliding windows.\n",
      "    To change this change the t_start and t_end arguments. \n",
      "\n",
      "  warnings.warn(x, RRuntimeWarning)\n",
      "/home/flaviovdf/miniconda3/envs/corona/lib/python3.7/site-packages/rpy2/rinterface/__init__.py:145: RRuntimeWarning: Default config will estimate R on weekly sliding windows.\n",
      "    To change this change the t_start and t_end arguments. \n",
      "\n",
      "  warnings.warn(x, RRuntimeWarning)\n",
      "/home/flaviovdf/miniconda3/envs/corona/lib/python3.7/site-packages/rpy2/rinterface/__init__.py:145: RRuntimeWarning: Default config will estimate R on weekly sliding windows.\n",
      "    To change this change the t_start and t_end arguments. \n",
      "\n",
      "  warnings.warn(x, RRuntimeWarning)\n",
      "/home/flaviovdf/miniconda3/envs/corona/lib/python3.7/site-packages/rpy2/rinterface/__init__.py:145: RRuntimeWarning: Default config will estimate R on weekly sliding windows.\n",
      "    To change this change the t_start and t_end arguments. \n",
      "\n",
      "  warnings.warn(x, RRuntimeWarning)\n"
     ]
    },
    {
     "name": "stdout",
     "output_type": "stream",
     "text": [
      "AC\n"
     ]
    },
    {
     "name": "stderr",
     "output_type": "stream",
     "text": [
      "/home/flaviovdf/miniconda3/envs/corona/lib/python3.7/site-packages/rpy2/rinterface/__init__.py:145: RRuntimeWarning: Default config will estimate R on weekly sliding windows.\n",
      "    To change this change the t_start and t_end arguments. \n",
      "\n",
      "  warnings.warn(x, RRuntimeWarning)\n",
      "/home/flaviovdf/miniconda3/envs/corona/lib/python3.7/site-packages/rpy2/rinterface/__init__.py:145: RRuntimeWarning: Default config will estimate R on weekly sliding windows.\n",
      "    To change this change the t_start and t_end arguments. \n",
      "\n",
      "  warnings.warn(x, RRuntimeWarning)\n",
      "/home/flaviovdf/miniconda3/envs/corona/lib/python3.7/site-packages/rpy2/rinterface/__init__.py:145: RRuntimeWarning: Default config will estimate R on weekly sliding windows.\n",
      "    To change this change the t_start and t_end arguments. \n",
      "\n",
      "  warnings.warn(x, RRuntimeWarning)\n",
      "/home/flaviovdf/miniconda3/envs/corona/lib/python3.7/site-packages/rpy2/rinterface/__init__.py:145: RRuntimeWarning: Default config will estimate R on weekly sliding windows.\n",
      "    To change this change the t_start and t_end arguments. \n",
      "\n",
      "  warnings.warn(x, RRuntimeWarning)\n",
      "/home/flaviovdf/miniconda3/envs/corona/lib/python3.7/site-packages/rpy2/rinterface/__init__.py:145: RRuntimeWarning: Default config will estimate R on weekly sliding windows.\n",
      "    To change this change the t_start and t_end arguments. \n",
      "\n",
      "  warnings.warn(x, RRuntimeWarning)\n",
      "/home/flaviovdf/miniconda3/envs/corona/lib/python3.7/site-packages/rpy2/rinterface/__init__.py:145: RRuntimeWarning: Default config will estimate R on weekly sliding windows.\n",
      "    To change this change the t_start and t_end arguments. \n",
      "\n",
      "  warnings.warn(x, RRuntimeWarning)\n"
     ]
    },
    {
     "name": "stdout",
     "output_type": "stream",
     "text": [
      "AM\n"
     ]
    },
    {
     "name": "stderr",
     "output_type": "stream",
     "text": [
      "/home/flaviovdf/miniconda3/envs/corona/lib/python3.7/site-packages/rpy2/rinterface/__init__.py:145: RRuntimeWarning: Default config will estimate R on weekly sliding windows.\n",
      "    To change this change the t_start and t_end arguments. \n",
      "\n",
      "  warnings.warn(x, RRuntimeWarning)\n",
      "/home/flaviovdf/miniconda3/envs/corona/lib/python3.7/site-packages/rpy2/rinterface/__init__.py:145: RRuntimeWarning: Default config will estimate R on weekly sliding windows.\n",
      "    To change this change the t_start and t_end arguments. \n",
      "\n",
      "  warnings.warn(x, RRuntimeWarning)\n",
      "/home/flaviovdf/miniconda3/envs/corona/lib/python3.7/site-packages/rpy2/rinterface/__init__.py:145: RRuntimeWarning: Default config will estimate R on weekly sliding windows.\n",
      "    To change this change the t_start and t_end arguments. \n",
      "\n",
      "  warnings.warn(x, RRuntimeWarning)\n",
      "/home/flaviovdf/miniconda3/envs/corona/lib/python3.7/site-packages/rpy2/rinterface/__init__.py:145: RRuntimeWarning: Default config will estimate R on weekly sliding windows.\n",
      "    To change this change the t_start and t_end arguments. \n",
      "\n",
      "  warnings.warn(x, RRuntimeWarning)\n",
      "/home/flaviovdf/miniconda3/envs/corona/lib/python3.7/site-packages/rpy2/rinterface/__init__.py:145: RRuntimeWarning: Default config will estimate R on weekly sliding windows.\n",
      "    To change this change the t_start and t_end arguments. \n",
      "\n",
      "  warnings.warn(x, RRuntimeWarning)\n",
      "/home/flaviovdf/miniconda3/envs/corona/lib/python3.7/site-packages/rpy2/rinterface/__init__.py:145: RRuntimeWarning: Default config will estimate R on weekly sliding windows.\n",
      "    To change this change the t_start and t_end arguments. \n",
      "\n",
      "  warnings.warn(x, RRuntimeWarning)\n"
     ]
    },
    {
     "name": "stdout",
     "output_type": "stream",
     "text": [
      "AP\n"
     ]
    },
    {
     "name": "stderr",
     "output_type": "stream",
     "text": [
      "/home/flaviovdf/miniconda3/envs/corona/lib/python3.7/site-packages/rpy2/rinterface/__init__.py:145: RRuntimeWarning: Default config will estimate R on weekly sliding windows.\n",
      "    To change this change the t_start and t_end arguments. \n",
      "\n",
      "  warnings.warn(x, RRuntimeWarning)\n",
      "/home/flaviovdf/miniconda3/envs/corona/lib/python3.7/site-packages/rpy2/rinterface/__init__.py:145: RRuntimeWarning: Default config will estimate R on weekly sliding windows.\n",
      "    To change this change the t_start and t_end arguments. \n",
      "\n",
      "  warnings.warn(x, RRuntimeWarning)\n",
      "/home/flaviovdf/miniconda3/envs/corona/lib/python3.7/site-packages/rpy2/rinterface/__init__.py:145: RRuntimeWarning: Default config will estimate R on weekly sliding windows.\n",
      "    To change this change the t_start and t_end arguments. \n",
      "\n",
      "  warnings.warn(x, RRuntimeWarning)\n",
      "/home/flaviovdf/miniconda3/envs/corona/lib/python3.7/site-packages/rpy2/rinterface/__init__.py:145: RRuntimeWarning: Default config will estimate R on weekly sliding windows.\n",
      "    To change this change the t_start and t_end arguments. \n",
      "\n",
      "  warnings.warn(x, RRuntimeWarning)\n",
      "/home/flaviovdf/miniconda3/envs/corona/lib/python3.7/site-packages/rpy2/rinterface/__init__.py:145: RRuntimeWarning: Default config will estimate R on weekly sliding windows.\n",
      "    To change this change the t_start and t_end arguments. \n",
      "\n",
      "  warnings.warn(x, RRuntimeWarning)\n",
      "/home/flaviovdf/miniconda3/envs/corona/lib/python3.7/site-packages/rpy2/rinterface/__init__.py:145: RRuntimeWarning: Default config will estimate R on weekly sliding windows.\n",
      "    To change this change the t_start and t_end arguments. \n",
      "\n",
      "  warnings.warn(x, RRuntimeWarning)\n"
     ]
    },
    {
     "name": "stdout",
     "output_type": "stream",
     "text": [
      "PA\n"
     ]
    },
    {
     "name": "stderr",
     "output_type": "stream",
     "text": [
      "/home/flaviovdf/miniconda3/envs/corona/lib/python3.7/site-packages/rpy2/rinterface/__init__.py:145: RRuntimeWarning: Default config will estimate R on weekly sliding windows.\n",
      "    To change this change the t_start and t_end arguments. \n",
      "\n",
      "  warnings.warn(x, RRuntimeWarning)\n",
      "/home/flaviovdf/miniconda3/envs/corona/lib/python3.7/site-packages/rpy2/rinterface/__init__.py:145: RRuntimeWarning: Default config will estimate R on weekly sliding windows.\n",
      "    To change this change the t_start and t_end arguments. \n",
      "\n",
      "  warnings.warn(x, RRuntimeWarning)\n",
      "/home/flaviovdf/miniconda3/envs/corona/lib/python3.7/site-packages/rpy2/rinterface/__init__.py:145: RRuntimeWarning: Default config will estimate R on weekly sliding windows.\n",
      "    To change this change the t_start and t_end arguments. \n",
      "\n",
      "  warnings.warn(x, RRuntimeWarning)\n",
      "/home/flaviovdf/miniconda3/envs/corona/lib/python3.7/site-packages/rpy2/rinterface/__init__.py:145: RRuntimeWarning: Default config will estimate R on weekly sliding windows.\n",
      "    To change this change the t_start and t_end arguments. \n",
      "\n",
      "  warnings.warn(x, RRuntimeWarning)\n",
      "/home/flaviovdf/miniconda3/envs/corona/lib/python3.7/site-packages/rpy2/rinterface/__init__.py:145: RRuntimeWarning: Default config will estimate R on weekly sliding windows.\n",
      "    To change this change the t_start and t_end arguments. \n",
      "\n",
      "  warnings.warn(x, RRuntimeWarning)\n",
      "/home/flaviovdf/miniconda3/envs/corona/lib/python3.7/site-packages/rpy2/rinterface/__init__.py:145: RRuntimeWarning: Default config will estimate R on weekly sliding windows.\n",
      "    To change this change the t_start and t_end arguments. \n",
      "\n",
      "  warnings.warn(x, RRuntimeWarning)\n"
     ]
    },
    {
     "name": "stdout",
     "output_type": "stream",
     "text": [
      "RO\n"
     ]
    },
    {
     "name": "stderr",
     "output_type": "stream",
     "text": [
      "/home/flaviovdf/miniconda3/envs/corona/lib/python3.7/site-packages/rpy2/rinterface/__init__.py:145: RRuntimeWarning: Default config will estimate R on weekly sliding windows.\n",
      "    To change this change the t_start and t_end arguments. \n",
      "\n",
      "  warnings.warn(x, RRuntimeWarning)\n",
      "/home/flaviovdf/miniconda3/envs/corona/lib/python3.7/site-packages/rpy2/rinterface/__init__.py:145: RRuntimeWarning: Default config will estimate R on weekly sliding windows.\n",
      "    To change this change the t_start and t_end arguments. \n",
      "\n",
      "  warnings.warn(x, RRuntimeWarning)\n",
      "/home/flaviovdf/miniconda3/envs/corona/lib/python3.7/site-packages/rpy2/rinterface/__init__.py:145: RRuntimeWarning: Default config will estimate R on weekly sliding windows.\n",
      "    To change this change the t_start and t_end arguments. \n",
      "\n",
      "  warnings.warn(x, RRuntimeWarning)\n",
      "/home/flaviovdf/miniconda3/envs/corona/lib/python3.7/site-packages/rpy2/rinterface/__init__.py:145: RRuntimeWarning: Default config will estimate R on weekly sliding windows.\n",
      "    To change this change the t_start and t_end arguments. \n",
      "\n",
      "  warnings.warn(x, RRuntimeWarning)\n",
      "/home/flaviovdf/miniconda3/envs/corona/lib/python3.7/site-packages/rpy2/rinterface/__init__.py:145: RRuntimeWarning: Default config will estimate R on weekly sliding windows.\n",
      "    To change this change the t_start and t_end arguments. \n",
      "\n",
      "  warnings.warn(x, RRuntimeWarning)\n",
      "/home/flaviovdf/miniconda3/envs/corona/lib/python3.7/site-packages/rpy2/rinterface/__init__.py:145: RRuntimeWarning: Default config will estimate R on weekly sliding windows.\n",
      "    To change this change the t_start and t_end arguments. \n",
      "\n",
      "  warnings.warn(x, RRuntimeWarning)\n"
     ]
    },
    {
     "name": "stdout",
     "output_type": "stream",
     "text": [
      "RR\n"
     ]
    },
    {
     "name": "stderr",
     "output_type": "stream",
     "text": [
      "/home/flaviovdf/miniconda3/envs/corona/lib/python3.7/site-packages/rpy2/rinterface/__init__.py:145: RRuntimeWarning: Default config will estimate R on weekly sliding windows.\n",
      "    To change this change the t_start and t_end arguments. \n",
      "\n",
      "  warnings.warn(x, RRuntimeWarning)\n",
      "/home/flaviovdf/miniconda3/envs/corona/lib/python3.7/site-packages/rpy2/rinterface/__init__.py:145: RRuntimeWarning: Default config will estimate R on weekly sliding windows.\n",
      "    To change this change the t_start and t_end arguments. \n",
      "\n",
      "  warnings.warn(x, RRuntimeWarning)\n",
      "/home/flaviovdf/miniconda3/envs/corona/lib/python3.7/site-packages/rpy2/rinterface/__init__.py:145: RRuntimeWarning: Default config will estimate R on weekly sliding windows.\n",
      "    To change this change the t_start and t_end arguments. \n",
      "\n",
      "  warnings.warn(x, RRuntimeWarning)\n",
      "/home/flaviovdf/miniconda3/envs/corona/lib/python3.7/site-packages/rpy2/rinterface/__init__.py:145: RRuntimeWarning: Default config will estimate R on weekly sliding windows.\n",
      "    To change this change the t_start and t_end arguments. \n",
      "\n",
      "  warnings.warn(x, RRuntimeWarning)\n",
      "/home/flaviovdf/miniconda3/envs/corona/lib/python3.7/site-packages/rpy2/rinterface/__init__.py:145: RRuntimeWarning: Default config will estimate R on weekly sliding windows.\n",
      "    To change this change the t_start and t_end arguments. \n",
      "\n",
      "  warnings.warn(x, RRuntimeWarning)\n",
      "/home/flaviovdf/miniconda3/envs/corona/lib/python3.7/site-packages/rpy2/rinterface/__init__.py:145: RRuntimeWarning: Default config will estimate R on weekly sliding windows.\n",
      "    To change this change the t_start and t_end arguments. \n",
      "\n",
      "  warnings.warn(x, RRuntimeWarning)\n"
     ]
    },
    {
     "name": "stdout",
     "output_type": "stream",
     "text": [
      "TO\n"
     ]
    },
    {
     "name": "stderr",
     "output_type": "stream",
     "text": [
      "/home/flaviovdf/miniconda3/envs/corona/lib/python3.7/site-packages/rpy2/rinterface/__init__.py:145: RRuntimeWarning: Default config will estimate R on weekly sliding windows.\n",
      "    To change this change the t_start and t_end arguments. \n",
      "\n",
      "  warnings.warn(x, RRuntimeWarning)\n",
      "/home/flaviovdf/miniconda3/envs/corona/lib/python3.7/site-packages/rpy2/rinterface/__init__.py:145: RRuntimeWarning: Default config will estimate R on weekly sliding windows.\n",
      "    To change this change the t_start and t_end arguments. \n",
      "\n",
      "  warnings.warn(x, RRuntimeWarning)\n",
      "/home/flaviovdf/miniconda3/envs/corona/lib/python3.7/site-packages/rpy2/rinterface/__init__.py:145: RRuntimeWarning: Default config will estimate R on weekly sliding windows.\n",
      "    To change this change the t_start and t_end arguments. \n",
      "\n",
      "  warnings.warn(x, RRuntimeWarning)\n",
      "/home/flaviovdf/miniconda3/envs/corona/lib/python3.7/site-packages/rpy2/rinterface/__init__.py:145: RRuntimeWarning: Default config will estimate R on weekly sliding windows.\n",
      "    To change this change the t_start and t_end arguments. \n",
      "\n",
      "  warnings.warn(x, RRuntimeWarning)\n",
      "/home/flaviovdf/miniconda3/envs/corona/lib/python3.7/site-packages/rpy2/rinterface/__init__.py:145: RRuntimeWarning: Default config will estimate R on weekly sliding windows.\n",
      "    To change this change the t_start and t_end arguments. \n",
      "\n",
      "  warnings.warn(x, RRuntimeWarning)\n",
      "/home/flaviovdf/miniconda3/envs/corona/lib/python3.7/site-packages/rpy2/rinterface/__init__.py:145: RRuntimeWarning: Default config will estimate R on weekly sliding windows.\n",
      "    To change this change the t_start and t_end arguments. \n",
      "\n",
      "  warnings.warn(x, RRuntimeWarning)\n"
     ]
    },
    {
     "name": "stdout",
     "output_type": "stream",
     "text": [
      "ES\n"
     ]
    },
    {
     "name": "stderr",
     "output_type": "stream",
     "text": [
      "/home/flaviovdf/miniconda3/envs/corona/lib/python3.7/site-packages/rpy2/rinterface/__init__.py:145: RRuntimeWarning: Default config will estimate R on weekly sliding windows.\n",
      "    To change this change the t_start and t_end arguments. \n",
      "\n",
      "  warnings.warn(x, RRuntimeWarning)\n",
      "/home/flaviovdf/miniconda3/envs/corona/lib/python3.7/site-packages/rpy2/rinterface/__init__.py:145: RRuntimeWarning: Default config will estimate R on weekly sliding windows.\n",
      "    To change this change the t_start and t_end arguments. \n",
      "\n",
      "  warnings.warn(x, RRuntimeWarning)\n",
      "/home/flaviovdf/miniconda3/envs/corona/lib/python3.7/site-packages/rpy2/rinterface/__init__.py:145: RRuntimeWarning: Default config will estimate R on weekly sliding windows.\n",
      "    To change this change the t_start and t_end arguments. \n",
      "\n",
      "  warnings.warn(x, RRuntimeWarning)\n",
      "/home/flaviovdf/miniconda3/envs/corona/lib/python3.7/site-packages/rpy2/rinterface/__init__.py:145: RRuntimeWarning: Default config will estimate R on weekly sliding windows.\n",
      "    To change this change the t_start and t_end arguments. \n",
      "\n",
      "  warnings.warn(x, RRuntimeWarning)\n",
      "/home/flaviovdf/miniconda3/envs/corona/lib/python3.7/site-packages/rpy2/rinterface/__init__.py:145: RRuntimeWarning: Default config will estimate R on weekly sliding windows.\n",
      "    To change this change the t_start and t_end arguments. \n",
      "\n",
      "  warnings.warn(x, RRuntimeWarning)\n",
      "/home/flaviovdf/miniconda3/envs/corona/lib/python3.7/site-packages/rpy2/rinterface/__init__.py:145: RRuntimeWarning: Default config will estimate R on weekly sliding windows.\n",
      "    To change this change the t_start and t_end arguments. \n",
      "\n",
      "  warnings.warn(x, RRuntimeWarning)\n"
     ]
    },
    {
     "name": "stdout",
     "output_type": "stream",
     "text": [
      "MG\n"
     ]
    },
    {
     "name": "stderr",
     "output_type": "stream",
     "text": [
      "/home/flaviovdf/miniconda3/envs/corona/lib/python3.7/site-packages/rpy2/rinterface/__init__.py:145: RRuntimeWarning: Default config will estimate R on weekly sliding windows.\n",
      "    To change this change the t_start and t_end arguments. \n",
      "\n",
      "  warnings.warn(x, RRuntimeWarning)\n",
      "/home/flaviovdf/miniconda3/envs/corona/lib/python3.7/site-packages/rpy2/rinterface/__init__.py:145: RRuntimeWarning: Default config will estimate R on weekly sliding windows.\n",
      "    To change this change the t_start and t_end arguments. \n",
      "\n",
      "  warnings.warn(x, RRuntimeWarning)\n",
      "/home/flaviovdf/miniconda3/envs/corona/lib/python3.7/site-packages/rpy2/rinterface/__init__.py:145: RRuntimeWarning: Default config will estimate R on weekly sliding windows.\n",
      "    To change this change the t_start and t_end arguments. \n",
      "\n",
      "  warnings.warn(x, RRuntimeWarning)\n",
      "/home/flaviovdf/miniconda3/envs/corona/lib/python3.7/site-packages/rpy2/rinterface/__init__.py:145: RRuntimeWarning: Default config will estimate R on weekly sliding windows.\n",
      "    To change this change the t_start and t_end arguments. \n",
      "\n",
      "  warnings.warn(x, RRuntimeWarning)\n",
      "/home/flaviovdf/miniconda3/envs/corona/lib/python3.7/site-packages/rpy2/rinterface/__init__.py:145: RRuntimeWarning: Default config will estimate R on weekly sliding windows.\n",
      "    To change this change the t_start and t_end arguments. \n",
      "\n",
      "  warnings.warn(x, RRuntimeWarning)\n",
      "/home/flaviovdf/miniconda3/envs/corona/lib/python3.7/site-packages/rpy2/rinterface/__init__.py:145: RRuntimeWarning: Default config will estimate R on weekly sliding windows.\n",
      "    To change this change the t_start and t_end arguments. \n",
      "\n",
      "  warnings.warn(x, RRuntimeWarning)\n"
     ]
    },
    {
     "name": "stdout",
     "output_type": "stream",
     "text": [
      "RJ\n"
     ]
    },
    {
     "name": "stderr",
     "output_type": "stream",
     "text": [
      "/home/flaviovdf/miniconda3/envs/corona/lib/python3.7/site-packages/rpy2/rinterface/__init__.py:145: RRuntimeWarning: Default config will estimate R on weekly sliding windows.\n",
      "    To change this change the t_start and t_end arguments. \n",
      "\n",
      "  warnings.warn(x, RRuntimeWarning)\n",
      "/home/flaviovdf/miniconda3/envs/corona/lib/python3.7/site-packages/rpy2/rinterface/__init__.py:145: RRuntimeWarning: Default config will estimate R on weekly sliding windows.\n",
      "    To change this change the t_start and t_end arguments. \n",
      "\n",
      "  warnings.warn(x, RRuntimeWarning)\n",
      "/home/flaviovdf/miniconda3/envs/corona/lib/python3.7/site-packages/rpy2/rinterface/__init__.py:145: RRuntimeWarning: Default config will estimate R on weekly sliding windows.\n",
      "    To change this change the t_start and t_end arguments. \n",
      "\n",
      "  warnings.warn(x, RRuntimeWarning)\n",
      "/home/flaviovdf/miniconda3/envs/corona/lib/python3.7/site-packages/rpy2/rinterface/__init__.py:145: RRuntimeWarning: Default config will estimate R on weekly sliding windows.\n",
      "    To change this change the t_start and t_end arguments. \n",
      "\n",
      "  warnings.warn(x, RRuntimeWarning)\n",
      "/home/flaviovdf/miniconda3/envs/corona/lib/python3.7/site-packages/rpy2/rinterface/__init__.py:145: RRuntimeWarning: Default config will estimate R on weekly sliding windows.\n",
      "    To change this change the t_start and t_end arguments. \n",
      "\n",
      "  warnings.warn(x, RRuntimeWarning)\n",
      "/home/flaviovdf/miniconda3/envs/corona/lib/python3.7/site-packages/rpy2/rinterface/__init__.py:145: RRuntimeWarning: Default config will estimate R on weekly sliding windows.\n",
      "    To change this change the t_start and t_end arguments. \n",
      "\n",
      "  warnings.warn(x, RRuntimeWarning)\n"
     ]
    },
    {
     "name": "stdout",
     "output_type": "stream",
     "text": [
      "SP\n"
     ]
    },
    {
     "name": "stderr",
     "output_type": "stream",
     "text": [
      "/home/flaviovdf/miniconda3/envs/corona/lib/python3.7/site-packages/rpy2/rinterface/__init__.py:145: RRuntimeWarning: Default config will estimate R on weekly sliding windows.\n",
      "    To change this change the t_start and t_end arguments. \n",
      "\n",
      "  warnings.warn(x, RRuntimeWarning)\n",
      "/home/flaviovdf/miniconda3/envs/corona/lib/python3.7/site-packages/rpy2/rinterface/__init__.py:145: RRuntimeWarning: Default config will estimate R on weekly sliding windows.\n",
      "    To change this change the t_start and t_end arguments. \n",
      "\n",
      "  warnings.warn(x, RRuntimeWarning)\n",
      "/home/flaviovdf/miniconda3/envs/corona/lib/python3.7/site-packages/rpy2/rinterface/__init__.py:145: RRuntimeWarning: Default config will estimate R on weekly sliding windows.\n",
      "    To change this change the t_start and t_end arguments. \n",
      "\n",
      "  warnings.warn(x, RRuntimeWarning)\n",
      "/home/flaviovdf/miniconda3/envs/corona/lib/python3.7/site-packages/rpy2/rinterface/__init__.py:145: RRuntimeWarning: Default config will estimate R on weekly sliding windows.\n",
      "    To change this change the t_start and t_end arguments. \n",
      "\n",
      "  warnings.warn(x, RRuntimeWarning)\n",
      "/home/flaviovdf/miniconda3/envs/corona/lib/python3.7/site-packages/rpy2/rinterface/__init__.py:145: RRuntimeWarning: Default config will estimate R on weekly sliding windows.\n",
      "    To change this change the t_start and t_end arguments. \n",
      "\n",
      "  warnings.warn(x, RRuntimeWarning)\n",
      "/home/flaviovdf/miniconda3/envs/corona/lib/python3.7/site-packages/rpy2/rinterface/__init__.py:145: RRuntimeWarning: Default config will estimate R on weekly sliding windows.\n",
      "    To change this change the t_start and t_end arguments. \n",
      "\n",
      "  warnings.warn(x, RRuntimeWarning)\n"
     ]
    },
    {
     "name": "stdout",
     "output_type": "stream",
     "text": [
      "PR\n"
     ]
    },
    {
     "name": "stderr",
     "output_type": "stream",
     "text": [
      "/home/flaviovdf/miniconda3/envs/corona/lib/python3.7/site-packages/rpy2/rinterface/__init__.py:145: RRuntimeWarning: Default config will estimate R on weekly sliding windows.\n",
      "    To change this change the t_start and t_end arguments. \n",
      "\n",
      "  warnings.warn(x, RRuntimeWarning)\n",
      "/home/flaviovdf/miniconda3/envs/corona/lib/python3.7/site-packages/rpy2/rinterface/__init__.py:145: RRuntimeWarning: Default config will estimate R on weekly sliding windows.\n",
      "    To change this change the t_start and t_end arguments. \n",
      "\n",
      "  warnings.warn(x, RRuntimeWarning)\n",
      "/home/flaviovdf/miniconda3/envs/corona/lib/python3.7/site-packages/rpy2/rinterface/__init__.py:145: RRuntimeWarning: Default config will estimate R on weekly sliding windows.\n",
      "    To change this change the t_start and t_end arguments. \n",
      "\n",
      "  warnings.warn(x, RRuntimeWarning)\n",
      "/home/flaviovdf/miniconda3/envs/corona/lib/python3.7/site-packages/rpy2/rinterface/__init__.py:145: RRuntimeWarning: Default config will estimate R on weekly sliding windows.\n",
      "    To change this change the t_start and t_end arguments. \n",
      "\n",
      "  warnings.warn(x, RRuntimeWarning)\n",
      "/home/flaviovdf/miniconda3/envs/corona/lib/python3.7/site-packages/rpy2/rinterface/__init__.py:145: RRuntimeWarning: Default config will estimate R on weekly sliding windows.\n",
      "    To change this change the t_start and t_end arguments. \n",
      "\n",
      "  warnings.warn(x, RRuntimeWarning)\n",
      "/home/flaviovdf/miniconda3/envs/corona/lib/python3.7/site-packages/rpy2/rinterface/__init__.py:145: RRuntimeWarning: Default config will estimate R on weekly sliding windows.\n",
      "    To change this change the t_start and t_end arguments. \n",
      "\n",
      "  warnings.warn(x, RRuntimeWarning)\n"
     ]
    },
    {
     "name": "stdout",
     "output_type": "stream",
     "text": [
      "RS\n"
     ]
    },
    {
     "name": "stderr",
     "output_type": "stream",
     "text": [
      "/home/flaviovdf/miniconda3/envs/corona/lib/python3.7/site-packages/rpy2/rinterface/__init__.py:145: RRuntimeWarning: Default config will estimate R on weekly sliding windows.\n",
      "    To change this change the t_start and t_end arguments. \n",
      "\n",
      "  warnings.warn(x, RRuntimeWarning)\n",
      "/home/flaviovdf/miniconda3/envs/corona/lib/python3.7/site-packages/rpy2/rinterface/__init__.py:145: RRuntimeWarning: Default config will estimate R on weekly sliding windows.\n",
      "    To change this change the t_start and t_end arguments. \n",
      "\n",
      "  warnings.warn(x, RRuntimeWarning)\n",
      "/home/flaviovdf/miniconda3/envs/corona/lib/python3.7/site-packages/rpy2/rinterface/__init__.py:145: RRuntimeWarning: Default config will estimate R on weekly sliding windows.\n",
      "    To change this change the t_start and t_end arguments. \n",
      "\n",
      "  warnings.warn(x, RRuntimeWarning)\n",
      "/home/flaviovdf/miniconda3/envs/corona/lib/python3.7/site-packages/rpy2/rinterface/__init__.py:145: RRuntimeWarning: Default config will estimate R on weekly sliding windows.\n",
      "    To change this change the t_start and t_end arguments. \n",
      "\n",
      "  warnings.warn(x, RRuntimeWarning)\n",
      "/home/flaviovdf/miniconda3/envs/corona/lib/python3.7/site-packages/rpy2/rinterface/__init__.py:145: RRuntimeWarning: Default config will estimate R on weekly sliding windows.\n",
      "    To change this change the t_start and t_end arguments. \n",
      "\n",
      "  warnings.warn(x, RRuntimeWarning)\n",
      "/home/flaviovdf/miniconda3/envs/corona/lib/python3.7/site-packages/rpy2/rinterface/__init__.py:145: RRuntimeWarning: Default config will estimate R on weekly sliding windows.\n",
      "    To change this change the t_start and t_end arguments. \n",
      "\n",
      "  warnings.warn(x, RRuntimeWarning)\n"
     ]
    },
    {
     "name": "stdout",
     "output_type": "stream",
     "text": [
      "SC\n"
     ]
    },
    {
     "name": "stderr",
     "output_type": "stream",
     "text": [
      "/home/flaviovdf/miniconda3/envs/corona/lib/python3.7/site-packages/rpy2/rinterface/__init__.py:145: RRuntimeWarning: Default config will estimate R on weekly sliding windows.\n",
      "    To change this change the t_start and t_end arguments. \n",
      "\n",
      "  warnings.warn(x, RRuntimeWarning)\n",
      "/home/flaviovdf/miniconda3/envs/corona/lib/python3.7/site-packages/rpy2/rinterface/__init__.py:145: RRuntimeWarning: Default config will estimate R on weekly sliding windows.\n",
      "    To change this change the t_start and t_end arguments. \n",
      "\n",
      "  warnings.warn(x, RRuntimeWarning)\n",
      "/home/flaviovdf/miniconda3/envs/corona/lib/python3.7/site-packages/rpy2/rinterface/__init__.py:145: RRuntimeWarning: Default config will estimate R on weekly sliding windows.\n",
      "    To change this change the t_start and t_end arguments. \n",
      "\n",
      "  warnings.warn(x, RRuntimeWarning)\n",
      "/home/flaviovdf/miniconda3/envs/corona/lib/python3.7/site-packages/rpy2/rinterface/__init__.py:145: RRuntimeWarning: Default config will estimate R on weekly sliding windows.\n",
      "    To change this change the t_start and t_end arguments. \n",
      "\n",
      "  warnings.warn(x, RRuntimeWarning)\n",
      "/home/flaviovdf/miniconda3/envs/corona/lib/python3.7/site-packages/rpy2/rinterface/__init__.py:145: RRuntimeWarning: Default config will estimate R on weekly sliding windows.\n",
      "    To change this change the t_start and t_end arguments. \n",
      "\n",
      "  warnings.warn(x, RRuntimeWarning)\n",
      "/home/flaviovdf/miniconda3/envs/corona/lib/python3.7/site-packages/rpy2/rinterface/__init__.py:145: RRuntimeWarning: Default config will estimate R on weekly sliding windows.\n",
      "    To change this change the t_start and t_end arguments. \n",
      "\n",
      "  warnings.warn(x, RRuntimeWarning)\n"
     ]
    }
   ],
   "source": [
    "mr = []\n",
    "for region in regions:\n",
    "    for state in regions[region]:\n",
    "        print(state)\n",
    "        model_df = brasilio.get_state(full_df, state)\n",
    "        epiestim_result = plot_site(model_df)\n",
    "        plt.savefig('plots/{}/{}.png'.format(region, state), dpi=72)\n",
    "        plt.close()\n",
    "        \n",
    "        epiestim_result['t_start'] = model_df.index[(epiestim_result['t_start'] - 1).astype('i').values]\n",
    "        epiestim_result['t_end'] = model_df.index[(epiestim_result['t_end'] - 1).astype('i').values]\n",
    "        epiestim_result['country'] = 'Brazil'\n",
    "        epiestim_result['state'] = state\n",
    "        epiestim_result['city'] = np.nan\n",
    "        epiestim_result.to_csv('results.csv', mode='a', header=False, index=False)\n",
    "        \n",
    "        mr.append({'state': state,\n",
    "                   'low': epiestim_result.iloc[-1]['Quantile.0.025(R)'],\n",
    "                   'mid': epiestim_result.iloc[-1]['Mean(R)'],\n",
    "                   'high': epiestim_result.iloc[-1]['Quantile.0.975(R)']\n",
    "                  })\n",
    "        \n",
    "        top_5 = pop[pop['uf'] == state].sort_values(by='populacao_estimada')[-5:]['municipio']\n",
    "        for city in top_5.values:\n",
    "            try:\n",
    "                model_df = brasilio.get_city(full_df, state, city)\n",
    "                epiestim_result = plot_site(model_df)\n",
    "                plt.savefig('plots/{}/{}-{}.png'.format(region, state, city), dpi=72)\n",
    "                plt.close()\n",
    "\n",
    "                epiestim_result['t_start'] = model_df.index[(epiestim_result['t_start'] - 1).astype('i').values]\n",
    "                epiestim_result['t_end'] = model_df.index[(epiestim_result['t_end'] - 1).astype('i').values]\n",
    "                epiestim_result['country'] = 'Brazil'\n",
    "                epiestim_result['state'] = state\n",
    "                epiestim_result['city'] = city\n",
    "                epiestim_result.to_csv('results.csv', mode='a', header=False)\n",
    "            except:\n",
    "                plt.close()"
   ]
  },
  {
   "cell_type": "code",
   "execution_count": 14,
   "metadata": {},
   "outputs": [],
   "source": [
    "mr = pd.DataFrame(mr)\n",
    "mr = mr.set_index('state')"
   ]
  },
  {
   "cell_type": "code",
   "execution_count": 15,
   "metadata": {},
   "outputs": [
    {
     "data": {
      "image/png": "[encoded data removed]",
      "text/plain": [
       "<Figure size 1728x1152 with 1 Axes>"
      ]
     },
     "metadata": {
      "needs_background": "light"
     },
     "output_type": "display_data"
    }
   ],
   "source": [
    "FULL_COLOR = [.7,.7,.7]\n",
    "NONE_COLOR = [179/255,35/255,14/255]\n",
    "PARTIAL_COLOR = [.5,.5,.5]\n",
    "ERROR_BAR_COLOR = [.3,.3,.3]\n",
    "\n",
    "\n",
    "def plot_standings(mr, title='Estimativa mais Recente de $R(t)$ por Estado'):\n",
    "    plt.title(title)\n",
    "    err = mr[['low', 'high']].sub(mr['mid'], axis=0).abs()\n",
    "    bars = plt.bar(mr.index,\n",
    "                  mr['mid'],\n",
    "                  width=.825,\n",
    "                  color=FULL_COLOR,\n",
    "                  ecolor=ERROR_BAR_COLOR,\n",
    "                  capsize=2,\n",
    "                  error_kw={'alpha':.5, 'lw':1},\n",
    "                  yerr=err.values.T)\n",
    "\n",
    "    for bar, state_name in zip(bars, mr.index):\n",
    "        bar.set_color([.7,.7,.7])\n",
    "        \n",
    "    labels = mr.index\n",
    "    ax = plt.gca()\n",
    "    ax.set_xticklabels(labels, rotation=90)\n",
    "    ax.margins(0)\n",
    "    ax.set_ylim(0, mr.high.max() + 0.1)\n",
    "    ax.axhline(1.0, linestyle=':', color='k', lw=1)\n",
    "\n",
    "    plotutils.despine()\n",
    "    plt.ylabel(r'$R(t) \\pm .95$ CI')\n",
    "    plt.tight_layout()\n",
    "    plt.savefig('./plots/comparativo.png')\n",
    "    \n",
    "mr.sort_values('mid', inplace=True, ascending=False)\n",
    "plot_standings(mr);"
   ]
  },
  {
   "cell_type": "code",
   "execution_count": null,
   "metadata": {},
   "outputs": [],
   "source": []
  }
 ],
 "metadata": {
  "kernelspec": {
   "display_name": "Python 3",
   "language": "python",
   "name": "python3"
  },
  "language_info": {
   "codemirror_mode": {
    "name": "ipython",
    "version": 3
   },
   "file_extension": ".py",
   "mimetype": "text/x-python",
   "name": "python",
   "nbconvert_exporter": "python",
   "pygments_lexer": "ipython3",
   "version": "3.7.7"
  }
 },
 "nbformat": 4,
 "nbformat_minor": 4
}
